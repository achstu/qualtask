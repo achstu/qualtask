{
 "cells": [
  {
   "cell_type": "code",
   "execution_count": 25,
   "metadata": {},
   "outputs": [],
   "source": [
    "import plotly.express as px\n",
    "import pandas as pd\n",
    "import csv"
   ]
  },
  {
   "cell_type": "code",
   "execution_count": 26,
   "metadata": {},
   "outputs": [],
   "source": [
    "class Planet:\n",
    "    def __init__(self, id, name, x, y, z, priority):\n",
    "        self.id = id\n",
    "        self.name = name\n",
    "        self.x = int(x)\n",
    "        self.y = int(y)\n",
    "        self.z = int(z)\n",
    "        self.priority = int(priority)\n",
    "    \n",
    "    def __repr__(self):\n",
    "        return f\"{self.id}: {self.name} ({self.x}, {self.y}, {self.z}) priotity: {self.priority}\"\n",
    "    \n",
    "    def dist(self, other):\n",
    "        return abs(self.x - other.x) + abs(self.y - other.y) + abs(self.z - other.z)\n",
    "\n",
    "    def cords(self):\n",
    "        return self.x, self.y, self.z"
   ]
  },
  {
   "cell_type": "code",
   "execution_count": 27,
   "metadata": {},
   "outputs": [
    {
     "data": {
      "text/html": [
       "<div>\n",
       "<style scoped>\n",
       "    .dataframe tbody tr th:only-of-type {\n",
       "        vertical-align: middle;\n",
       "    }\n",
       "\n",
       "    .dataframe tbody tr th {\n",
       "        vertical-align: top;\n",
       "    }\n",
       "\n",
       "    .dataframe thead th {\n",
       "        text-align: right;\n",
       "    }\n",
       "</style>\n",
       "<table border=\"1\" class=\"dataframe\">\n",
       "  <thead>\n",
       "    <tr style=\"text-align: right;\">\n",
       "      <th></th>\n",
       "      <th>name</th>\n",
       "      <th>x</th>\n",
       "      <th>y</th>\n",
       "      <th>z</th>\n",
       "      <th>priority</th>\n",
       "    </tr>\n",
       "  </thead>\n",
       "  <tbody>\n",
       "    <tr>\n",
       "      <th>0</th>\n",
       "      <td>Death Star</td>\n",
       "      <td>0</td>\n",
       "      <td>0</td>\n",
       "      <td>0</td>\n",
       "      <td>0</td>\n",
       "    </tr>\n",
       "    <tr>\n",
       "      <th>1</th>\n",
       "      <td>Coruscant</td>\n",
       "      <td>12</td>\n",
       "      <td>34</td>\n",
       "      <td>56</td>\n",
       "      <td>1</td>\n",
       "    </tr>\n",
       "    <tr>\n",
       "      <th>2</th>\n",
       "      <td>Naboo</td>\n",
       "      <td>23</td>\n",
       "      <td>45</td>\n",
       "      <td>67</td>\n",
       "      <td>3</td>\n",
       "    </tr>\n",
       "    <tr>\n",
       "      <th>3</th>\n",
       "      <td>Tatooine</td>\n",
       "      <td>34</td>\n",
       "      <td>56</td>\n",
       "      <td>78</td>\n",
       "      <td>2</td>\n",
       "    </tr>\n",
       "    <tr>\n",
       "      <th>4</th>\n",
       "      <td>Kashyyyk</td>\n",
       "      <td>45</td>\n",
       "      <td>67</td>\n",
       "      <td>89</td>\n",
       "      <td>1</td>\n",
       "    </tr>\n",
       "    <tr>\n",
       "      <th>5</th>\n",
       "      <td>Mustafar</td>\n",
       "      <td>56</td>\n",
       "      <td>78</td>\n",
       "      <td>90</td>\n",
       "      <td>4</td>\n",
       "    </tr>\n",
       "    <tr>\n",
       "      <th>6</th>\n",
       "      <td>Hoth</td>\n",
       "      <td>67</td>\n",
       "      <td>89</td>\n",
       "      <td>12</td>\n",
       "      <td>2</td>\n",
       "    </tr>\n",
       "    <tr>\n",
       "      <th>7</th>\n",
       "      <td>Dagobah</td>\n",
       "      <td>78</td>\n",
       "      <td>90</td>\n",
       "      <td>23</td>\n",
       "      <td>3</td>\n",
       "    </tr>\n",
       "    <tr>\n",
       "      <th>8</th>\n",
       "      <td>Endor</td>\n",
       "      <td>90</td>\n",
       "      <td>12</td>\n",
       "      <td>34</td>\n",
       "      <td>1</td>\n",
       "    </tr>\n",
       "    <tr>\n",
       "      <th>9</th>\n",
       "      <td>Kamino</td>\n",
       "      <td>10</td>\n",
       "      <td>20</td>\n",
       "      <td>30</td>\n",
       "      <td>5</td>\n",
       "    </tr>\n",
       "    <tr>\n",
       "      <th>10</th>\n",
       "      <td>Geonosis</td>\n",
       "      <td>20</td>\n",
       "      <td>30</td>\n",
       "      <td>40</td>\n",
       "      <td>2</td>\n",
       "    </tr>\n",
       "    <tr>\n",
       "      <th>11</th>\n",
       "      <td>Alderaan</td>\n",
       "      <td>30</td>\n",
       "      <td>40</td>\n",
       "      <td>50</td>\n",
       "      <td>4</td>\n",
       "    </tr>\n",
       "    <tr>\n",
       "      <th>12</th>\n",
       "      <td>Bespin</td>\n",
       "      <td>40</td>\n",
       "      <td>50</td>\n",
       "      <td>60</td>\n",
       "      <td>1</td>\n",
       "    </tr>\n",
       "    <tr>\n",
       "      <th>13</th>\n",
       "      <td>Yavin4</td>\n",
       "      <td>50</td>\n",
       "      <td>60</td>\n",
       "      <td>70</td>\n",
       "      <td>3</td>\n",
       "    </tr>\n",
       "    <tr>\n",
       "      <th>14</th>\n",
       "      <td>Felucia</td>\n",
       "      <td>60</td>\n",
       "      <td>70</td>\n",
       "      <td>80</td>\n",
       "      <td>2</td>\n",
       "    </tr>\n",
       "    <tr>\n",
       "      <th>15</th>\n",
       "      <td>Mandalore</td>\n",
       "      <td>70</td>\n",
       "      <td>80</td>\n",
       "      <td>90</td>\n",
       "      <td>1</td>\n",
       "    </tr>\n",
       "    <tr>\n",
       "      <th>16</th>\n",
       "      <td>Utapau</td>\n",
       "      <td>80</td>\n",
       "      <td>90</td>\n",
       "      <td>10</td>\n",
       "      <td>4</td>\n",
       "    </tr>\n",
       "    <tr>\n",
       "      <th>17</th>\n",
       "      <td>Ryloth</td>\n",
       "      <td>90</td>\n",
       "      <td>10</td>\n",
       "      <td>20</td>\n",
       "      <td>2</td>\n",
       "    </tr>\n",
       "    <tr>\n",
       "      <th>18</th>\n",
       "      <td>Jakku</td>\n",
       "      <td>11</td>\n",
       "      <td>22</td>\n",
       "      <td>33</td>\n",
       "      <td>3</td>\n",
       "    </tr>\n",
       "    <tr>\n",
       "      <th>19</th>\n",
       "      <td>Scarif</td>\n",
       "      <td>22</td>\n",
       "      <td>33</td>\n",
       "      <td>44</td>\n",
       "      <td>1</td>\n",
       "    </tr>\n",
       "    <tr>\n",
       "      <th>20</th>\n",
       "      <td>Lothal</td>\n",
       "      <td>33</td>\n",
       "      <td>44</td>\n",
       "      <td>55</td>\n",
       "      <td>5</td>\n",
       "    </tr>\n",
       "    <tr>\n",
       "      <th>21</th>\n",
       "      <td>Malachor</td>\n",
       "      <td>15</td>\n",
       "      <td>40</td>\n",
       "      <td>50</td>\n",
       "      <td>1</td>\n",
       "    </tr>\n",
       "    <tr>\n",
       "      <th>22</th>\n",
       "      <td>Dathomir</td>\n",
       "      <td>67</td>\n",
       "      <td>23</td>\n",
       "      <td>45</td>\n",
       "      <td>3</td>\n",
       "    </tr>\n",
       "    <tr>\n",
       "      <th>23</th>\n",
       "      <td>Exegol</td>\n",
       "      <td>78</td>\n",
       "      <td>34</td>\n",
       "      <td>56</td>\n",
       "      <td>2</td>\n",
       "    </tr>\n",
       "    <tr>\n",
       "      <th>24</th>\n",
       "      <td>Corellia</td>\n",
       "      <td>50</td>\n",
       "      <td>70</td>\n",
       "      <td>85</td>\n",
       "      <td>1</td>\n",
       "    </tr>\n",
       "    <tr>\n",
       "      <th>25</th>\n",
       "      <td>Onderon</td>\n",
       "      <td>90</td>\n",
       "      <td>56</td>\n",
       "      <td>78</td>\n",
       "      <td>4</td>\n",
       "    </tr>\n",
       "    <tr>\n",
       "      <th>26</th>\n",
       "      <td>Ilum</td>\n",
       "      <td>12</td>\n",
       "      <td>67</td>\n",
       "      <td>89</td>\n",
       "      <td>2</td>\n",
       "    </tr>\n",
       "    <tr>\n",
       "      <th>27</th>\n",
       "      <td>Saleucami</td>\n",
       "      <td>80</td>\n",
       "      <td>85</td>\n",
       "      <td>25</td>\n",
       "      <td>3</td>\n",
       "    </tr>\n",
       "    <tr>\n",
       "      <th>28</th>\n",
       "      <td>Mygeeto</td>\n",
       "      <td>85</td>\n",
       "      <td>15</td>\n",
       "      <td>40</td>\n",
       "      <td>1</td>\n",
       "    </tr>\n",
       "    <tr>\n",
       "      <th>29</th>\n",
       "      <td>Christophsis</td>\n",
       "      <td>30</td>\n",
       "      <td>10</td>\n",
       "      <td>20</td>\n",
       "      <td>5</td>\n",
       "    </tr>\n",
       "    <tr>\n",
       "      <th>30</th>\n",
       "      <td>Serenno</td>\n",
       "      <td>25</td>\n",
       "      <td>35</td>\n",
       "      <td>45</td>\n",
       "      <td>2</td>\n",
       "    </tr>\n",
       "    <tr>\n",
       "      <th>31</th>\n",
       "      <td>Zygerria</td>\n",
       "      <td>50</td>\n",
       "      <td>30</td>\n",
       "      <td>40</td>\n",
       "      <td>4</td>\n",
       "    </tr>\n",
       "    <tr>\n",
       "      <th>32</th>\n",
       "      <td>Umbara</td>\n",
       "      <td>44</td>\n",
       "      <td>55</td>\n",
       "      <td>66</td>\n",
       "      <td>1</td>\n",
       "    </tr>\n",
       "    <tr>\n",
       "      <th>33</th>\n",
       "      <td>Kessel</td>\n",
       "      <td>70</td>\n",
       "      <td>50</td>\n",
       "      <td>60</td>\n",
       "      <td>3</td>\n",
       "    </tr>\n",
       "    <tr>\n",
       "      <th>34</th>\n",
       "      <td>Savareen</td>\n",
       "      <td>65</td>\n",
       "      <td>75</td>\n",
       "      <td>85</td>\n",
       "      <td>2</td>\n",
       "    </tr>\n",
       "    <tr>\n",
       "      <th>35</th>\n",
       "      <td>Mimban</td>\n",
       "      <td>75</td>\n",
       "      <td>85</td>\n",
       "      <td>88</td>\n",
       "      <td>1</td>\n",
       "    </tr>\n",
       "    <tr>\n",
       "      <th>36</th>\n",
       "      <td>Vandor</td>\n",
       "      <td>10</td>\n",
       "      <td>80</td>\n",
       "      <td>90</td>\n",
       "      <td>4</td>\n",
       "    </tr>\n",
       "    <tr>\n",
       "      <th>37</th>\n",
       "      <td>Jedha</td>\n",
       "      <td>20</td>\n",
       "      <td>90</td>\n",
       "      <td>10</td>\n",
       "      <td>2</td>\n",
       "    </tr>\n",
       "    <tr>\n",
       "      <th>38</th>\n",
       "      <td>Eadu</td>\n",
       "      <td>13</td>\n",
       "      <td>24</td>\n",
       "      <td>35</td>\n",
       "      <td>3</td>\n",
       "    </tr>\n",
       "    <tr>\n",
       "      <th>39</th>\n",
       "      <td>Wobani</td>\n",
       "      <td>44</td>\n",
       "      <td>22</td>\n",
       "      <td>33</td>\n",
       "      <td>1</td>\n",
       "    </tr>\n",
       "    <tr>\n",
       "      <th>40</th>\n",
       "      <td>Lahmu</td>\n",
       "      <td>55</td>\n",
       "      <td>33</td>\n",
       "      <td>44</td>\n",
       "      <td>5</td>\n",
       "    </tr>\n",
       "  </tbody>\n",
       "</table>\n",
       "</div>"
      ],
      "text/plain": [
       "            name   x   y   z  priority\n",
       "0     Death Star   0   0   0         0\n",
       "1      Coruscant  12  34  56         1\n",
       "2          Naboo  23  45  67         3\n",
       "3       Tatooine  34  56  78         2\n",
       "4       Kashyyyk  45  67  89         1\n",
       "5       Mustafar  56  78  90         4\n",
       "6           Hoth  67  89  12         2\n",
       "7        Dagobah  78  90  23         3\n",
       "8          Endor  90  12  34         1\n",
       "9         Kamino  10  20  30         5\n",
       "10      Geonosis  20  30  40         2\n",
       "11      Alderaan  30  40  50         4\n",
       "12        Bespin  40  50  60         1\n",
       "13        Yavin4  50  60  70         3\n",
       "14       Felucia  60  70  80         2\n",
       "15     Mandalore  70  80  90         1\n",
       "16        Utapau  80  90  10         4\n",
       "17        Ryloth  90  10  20         2\n",
       "18         Jakku  11  22  33         3\n",
       "19        Scarif  22  33  44         1\n",
       "20        Lothal  33  44  55         5\n",
       "21      Malachor  15  40  50         1\n",
       "22      Dathomir  67  23  45         3\n",
       "23        Exegol  78  34  56         2\n",
       "24      Corellia  50  70  85         1\n",
       "25       Onderon  90  56  78         4\n",
       "26          Ilum  12  67  89         2\n",
       "27     Saleucami  80  85  25         3\n",
       "28       Mygeeto  85  15  40         1\n",
       "29  Christophsis  30  10  20         5\n",
       "30       Serenno  25  35  45         2\n",
       "31      Zygerria  50  30  40         4\n",
       "32        Umbara  44  55  66         1\n",
       "33        Kessel  70  50  60         3\n",
       "34      Savareen  65  75  85         2\n",
       "35        Mimban  75  85  88         1\n",
       "36        Vandor  10  80  90         4\n",
       "37         Jedha  20  90  10         2\n",
       "38          Eadu  13  24  35         3\n",
       "39        Wobani  44  22  33         1\n",
       "40         Lahmu  55  33  44         5"
      ]
     },
     "execution_count": 27,
     "metadata": {},
     "output_type": "execute_result"
    }
   ],
   "source": [
    "df = pd.read_csv(\"meta_galaxy.csv\")\n",
    "df"
   ]
  },
  {
   "cell_type": "code",
   "execution_count": 28,
   "metadata": {},
   "outputs": [],
   "source": [
    "PATH = [[1, 21, 12, 24, 35, 15, 4, 32, 19], [39, 28, 8, 17], [26, 34, 14, 3, 30, 10], [37, 6, 23, 33, 13, 2, 38, 18], [22, 27, 7, 16], [31, 25, 5, 36], [11, 20, 40, 9, 29]]"
   ]
  },
  {
   "cell_type": "code",
   "execution_count": 29,
   "metadata": {},
   "outputs": [],
   "source": [
    "with open(\"galaxy.csv\", \"r\") as f:\n",
    "    reader = csv.reader(f)\n",
    "    planets = [Planet(id, *row) for id, row in enumerate(reader)]"
   ]
  },
  {
   "cell_type": "code",
   "execution_count": 30,
   "metadata": {},
   "outputs": [
    {
     "data": {
      "application/vnd.plotly.v1+json": {
       "config": {
        "plotlyServerURL": "https://plot.ly"
       },
       "data": [
        {
         "marker": {
          "color": [
           "#636EFA",
           "#EF553B",
           "#00CC96",
           "#AB63FA",
           "#EF553B",
           "#FFA15A",
           "#AB63FA",
           "#00CC96",
           "#EF553B",
           "#19D3F3",
           "#AB63FA",
           "#FFA15A",
           "#EF553B",
           "#00CC96",
           "#AB63FA",
           "#EF553B",
           "#FFA15A",
           "#AB63FA",
           "#00CC96",
           "#EF553B",
           "#19D3F3",
           "#EF553B",
           "#00CC96",
           "#AB63FA",
           "#EF553B",
           "#FFA15A",
           "#AB63FA",
           "#00CC96",
           "#EF553B",
           "#19D3F3",
           "#AB63FA",
           "#FFA15A",
           "#EF553B",
           "#00CC96",
           "#AB63FA",
           "#EF553B",
           "#FFA15A",
           "#AB63FA",
           "#00CC96",
           "#EF553B",
           "#19D3F3"
          ],
          "size": 6
         },
         "mode": "markers+text",
         "text": [
          "Death Star",
          "Coruscant",
          "Naboo",
          "Tatooine",
          "Kashyyyk",
          "Mustafar",
          "Hoth",
          "Dagobah",
          "Endor",
          "Kamino",
          "Geonosis",
          "Alderaan",
          "Bespin",
          "Yavin4",
          "Felucia",
          "Mandalore",
          "Utapau",
          "Ryloth",
          "Jakku",
          "Scarif",
          "Lothal",
          "Malachor",
          "Dathomir",
          "Exegol",
          "Corellia",
          "Onderon",
          "Ilum",
          "Saleucami",
          "Mygeeto",
          "Christophsis",
          "Serenno",
          "Zygerria",
          "Umbara",
          "Kessel",
          "Savareen",
          "Mimban",
          "Vandor",
          "Jedha",
          "Eadu",
          "Wobani",
          "Lahmu"
         ],
         "textposition": "top center",
         "type": "scatter3d",
         "x": {
          "bdata": "AAwXIi04Q05aChQeKDI8RlBaCxYhD0NOMloMUFUeGTIsRkFLChQNLDc=",
          "dtype": "i1"
         },
         "y": {
          "bdata": "ACItOENOWVoMFB4oMjxGUFoKFiEsKBciRjhDVQ8KIx43MktVUFoYFiE=",
          "dtype": "i1"
         },
         "z": {
          "bdata": "ADhDTllaDBciHigyPEZQWgoUISw3Mi04VU5ZGSgULShCPFVYWgojISw=",
          "dtype": "i1"
         }
        },
        {
         "line": {
          "color": "#636EFA",
          "width": 4
         },
         "mode": "lines",
         "name": "Loop 1",
         "showlegend": true,
         "type": "scatter3d",
         "x": [
          0,
          12,
          15,
          40,
          50,
          75,
          70,
          45,
          44,
          22,
          0
         ],
         "y": [
          0,
          34,
          40,
          50,
          70,
          85,
          80,
          67,
          55,
          33,
          0
         ],
         "z": [
          0,
          56,
          50,
          60,
          85,
          88,
          90,
          89,
          66,
          44,
          0
         ]
        },
        {
         "line": {
          "color": "#EF553B",
          "width": 4
         },
         "mode": "lines",
         "name": "Loop 2",
         "showlegend": true,
         "type": "scatter3d",
         "x": [
          0,
          44,
          85,
          90,
          90,
          0
         ],
         "y": [
          0,
          22,
          15,
          12,
          10,
          0
         ],
         "z": [
          0,
          33,
          40,
          34,
          20,
          0
         ]
        },
        {
         "line": {
          "color": "#00CC96",
          "width": 4
         },
         "mode": "lines",
         "name": "Loop 3",
         "showlegend": true,
         "type": "scatter3d",
         "x": [
          0,
          12,
          65,
          60,
          34,
          25,
          20,
          0
         ],
         "y": [
          0,
          67,
          75,
          70,
          56,
          35,
          30,
          0
         ],
         "z": [
          0,
          89,
          85,
          80,
          78,
          45,
          40,
          0
         ]
        },
        {
         "line": {
          "color": "#AB63FA",
          "width": 4
         },
         "mode": "lines",
         "name": "Loop 4",
         "showlegend": true,
         "type": "scatter3d",
         "x": [
          0,
          20,
          67,
          78,
          70,
          50,
          23,
          13,
          11,
          0
         ],
         "y": [
          0,
          90,
          89,
          34,
          50,
          60,
          45,
          24,
          22,
          0
         ],
         "z": [
          0,
          10,
          12,
          56,
          60,
          70,
          67,
          35,
          33,
          0
         ]
        },
        {
         "line": {
          "color": "#FFA15A",
          "width": 4
         },
         "mode": "lines",
         "name": "Loop 5",
         "showlegend": true,
         "type": "scatter3d",
         "x": [
          0,
          67,
          80,
          78,
          80,
          0
         ],
         "y": [
          0,
          23,
          85,
          90,
          90,
          0
         ],
         "z": [
          0,
          45,
          25,
          23,
          10,
          0
         ]
        },
        {
         "line": {
          "color": "#19D3F3",
          "width": 4
         },
         "mode": "lines",
         "name": "Loop 6",
         "showlegend": true,
         "type": "scatter3d",
         "x": [
          0,
          50,
          90,
          56,
          10,
          0
         ],
         "y": [
          0,
          30,
          56,
          78,
          80,
          0
         ],
         "z": [
          0,
          40,
          78,
          90,
          90,
          0
         ]
        },
        {
         "line": {
          "color": "#FF6692",
          "width": 4
         },
         "mode": "lines",
         "name": "Loop 7",
         "showlegend": true,
         "type": "scatter3d",
         "x": [
          0,
          30,
          33,
          55,
          10,
          30,
          0
         ],
         "y": [
          0,
          40,
          44,
          33,
          20,
          10,
          0
         ],
         "z": [
          0,
          50,
          55,
          44,
          30,
          20,
          0
         ]
        }
       ],
       "layout": {
        "height": 700,
        "margin": {
         "b": 0,
         "l": 0,
         "r": 0,
         "t": 0
        },
        "scene": {
         "xaxis": {
          "title": {
           "text": "X"
          }
         },
         "yaxis": {
          "title": {
           "text": "Y"
          }
         },
         "zaxis": {
          "title": {
           "text": "Z"
          }
         }
        },
        "template": {
         "data": {
          "bar": [
           {
            "error_x": {
             "color": "#2a3f5f"
            },
            "error_y": {
             "color": "#2a3f5f"
            },
            "marker": {
             "line": {
              "color": "#E5ECF6",
              "width": 0.5
             },
             "pattern": {
              "fillmode": "overlay",
              "size": 10,
              "solidity": 0.2
             }
            },
            "type": "bar"
           }
          ],
          "barpolar": [
           {
            "marker": {
             "line": {
              "color": "#E5ECF6",
              "width": 0.5
             },
             "pattern": {
              "fillmode": "overlay",
              "size": 10,
              "solidity": 0.2
             }
            },
            "type": "barpolar"
           }
          ],
          "carpet": [
           {
            "aaxis": {
             "endlinecolor": "#2a3f5f",
             "gridcolor": "white",
             "linecolor": "white",
             "minorgridcolor": "white",
             "startlinecolor": "#2a3f5f"
            },
            "baxis": {
             "endlinecolor": "#2a3f5f",
             "gridcolor": "white",
             "linecolor": "white",
             "minorgridcolor": "white",
             "startlinecolor": "#2a3f5f"
            },
            "type": "carpet"
           }
          ],
          "choropleth": [
           {
            "colorbar": {
             "outlinewidth": 0,
             "ticks": ""
            },
            "type": "choropleth"
           }
          ],
          "contour": [
           {
            "colorbar": {
             "outlinewidth": 0,
             "ticks": ""
            },
            "colorscale": [
             [
              0,
              "#0d0887"
             ],
             [
              0.1111111111111111,
              "#46039f"
             ],
             [
              0.2222222222222222,
              "#7201a8"
             ],
             [
              0.3333333333333333,
              "#9c179e"
             ],
             [
              0.4444444444444444,
              "#bd3786"
             ],
             [
              0.5555555555555556,
              "#d8576b"
             ],
             [
              0.6666666666666666,
              "#ed7953"
             ],
             [
              0.7777777777777778,
              "#fb9f3a"
             ],
             [
              0.8888888888888888,
              "#fdca26"
             ],
             [
              1,
              "#f0f921"
             ]
            ],
            "type": "contour"
           }
          ],
          "contourcarpet": [
           {
            "colorbar": {
             "outlinewidth": 0,
             "ticks": ""
            },
            "type": "contourcarpet"
           }
          ],
          "heatmap": [
           {
            "colorbar": {
             "outlinewidth": 0,
             "ticks": ""
            },
            "colorscale": [
             [
              0,
              "#0d0887"
             ],
             [
              0.1111111111111111,
              "#46039f"
             ],
             [
              0.2222222222222222,
              "#7201a8"
             ],
             [
              0.3333333333333333,
              "#9c179e"
             ],
             [
              0.4444444444444444,
              "#bd3786"
             ],
             [
              0.5555555555555556,
              "#d8576b"
             ],
             [
              0.6666666666666666,
              "#ed7953"
             ],
             [
              0.7777777777777778,
              "#fb9f3a"
             ],
             [
              0.8888888888888888,
              "#fdca26"
             ],
             [
              1,
              "#f0f921"
             ]
            ],
            "type": "heatmap"
           }
          ],
          "histogram": [
           {
            "marker": {
             "pattern": {
              "fillmode": "overlay",
              "size": 10,
              "solidity": 0.2
             }
            },
            "type": "histogram"
           }
          ],
          "histogram2d": [
           {
            "colorbar": {
             "outlinewidth": 0,
             "ticks": ""
            },
            "colorscale": [
             [
              0,
              "#0d0887"
             ],
             [
              0.1111111111111111,
              "#46039f"
             ],
             [
              0.2222222222222222,
              "#7201a8"
             ],
             [
              0.3333333333333333,
              "#9c179e"
             ],
             [
              0.4444444444444444,
              "#bd3786"
             ],
             [
              0.5555555555555556,
              "#d8576b"
             ],
             [
              0.6666666666666666,
              "#ed7953"
             ],
             [
              0.7777777777777778,
              "#fb9f3a"
             ],
             [
              0.8888888888888888,
              "#fdca26"
             ],
             [
              1,
              "#f0f921"
             ]
            ],
            "type": "histogram2d"
           }
          ],
          "histogram2dcontour": [
           {
            "colorbar": {
             "outlinewidth": 0,
             "ticks": ""
            },
            "colorscale": [
             [
              0,
              "#0d0887"
             ],
             [
              0.1111111111111111,
              "#46039f"
             ],
             [
              0.2222222222222222,
              "#7201a8"
             ],
             [
              0.3333333333333333,
              "#9c179e"
             ],
             [
              0.4444444444444444,
              "#bd3786"
             ],
             [
              0.5555555555555556,
              "#d8576b"
             ],
             [
              0.6666666666666666,
              "#ed7953"
             ],
             [
              0.7777777777777778,
              "#fb9f3a"
             ],
             [
              0.8888888888888888,
              "#fdca26"
             ],
             [
              1,
              "#f0f921"
             ]
            ],
            "type": "histogram2dcontour"
           }
          ],
          "mesh3d": [
           {
            "colorbar": {
             "outlinewidth": 0,
             "ticks": ""
            },
            "type": "mesh3d"
           }
          ],
          "parcoords": [
           {
            "line": {
             "colorbar": {
              "outlinewidth": 0,
              "ticks": ""
             }
            },
            "type": "parcoords"
           }
          ],
          "pie": [
           {
            "automargin": true,
            "type": "pie"
           }
          ],
          "scatter": [
           {
            "fillpattern": {
             "fillmode": "overlay",
             "size": 10,
             "solidity": 0.2
            },
            "type": "scatter"
           }
          ],
          "scatter3d": [
           {
            "line": {
             "colorbar": {
              "outlinewidth": 0,
              "ticks": ""
             }
            },
            "marker": {
             "colorbar": {
              "outlinewidth": 0,
              "ticks": ""
             }
            },
            "type": "scatter3d"
           }
          ],
          "scattercarpet": [
           {
            "marker": {
             "colorbar": {
              "outlinewidth": 0,
              "ticks": ""
             }
            },
            "type": "scattercarpet"
           }
          ],
          "scattergeo": [
           {
            "marker": {
             "colorbar": {
              "outlinewidth": 0,
              "ticks": ""
             }
            },
            "type": "scattergeo"
           }
          ],
          "scattergl": [
           {
            "marker": {
             "colorbar": {
              "outlinewidth": 0,
              "ticks": ""
             }
            },
            "type": "scattergl"
           }
          ],
          "scattermap": [
           {
            "marker": {
             "colorbar": {
              "outlinewidth": 0,
              "ticks": ""
             }
            },
            "type": "scattermap"
           }
          ],
          "scattermapbox": [
           {
            "marker": {
             "colorbar": {
              "outlinewidth": 0,
              "ticks": ""
             }
            },
            "type": "scattermapbox"
           }
          ],
          "scatterpolar": [
           {
            "marker": {
             "colorbar": {
              "outlinewidth": 0,
              "ticks": ""
             }
            },
            "type": "scatterpolar"
           }
          ],
          "scatterpolargl": [
           {
            "marker": {
             "colorbar": {
              "outlinewidth": 0,
              "ticks": ""
             }
            },
            "type": "scatterpolargl"
           }
          ],
          "scatterternary": [
           {
            "marker": {
             "colorbar": {
              "outlinewidth": 0,
              "ticks": ""
             }
            },
            "type": "scatterternary"
           }
          ],
          "surface": [
           {
            "colorbar": {
             "outlinewidth": 0,
             "ticks": ""
            },
            "colorscale": [
             [
              0,
              "#0d0887"
             ],
             [
              0.1111111111111111,
              "#46039f"
             ],
             [
              0.2222222222222222,
              "#7201a8"
             ],
             [
              0.3333333333333333,
              "#9c179e"
             ],
             [
              0.4444444444444444,
              "#bd3786"
             ],
             [
              0.5555555555555556,
              "#d8576b"
             ],
             [
              0.6666666666666666,
              "#ed7953"
             ],
             [
              0.7777777777777778,
              "#fb9f3a"
             ],
             [
              0.8888888888888888,
              "#fdca26"
             ],
             [
              1,
              "#f0f921"
             ]
            ],
            "type": "surface"
           }
          ],
          "table": [
           {
            "cells": {
             "fill": {
              "color": "#EBF0F8"
             },
             "line": {
              "color": "white"
             }
            },
            "header": {
             "fill": {
              "color": "#C8D4E3"
             },
             "line": {
              "color": "white"
             }
            },
            "type": "table"
           }
          ]
         },
         "layout": {
          "annotationdefaults": {
           "arrowcolor": "#2a3f5f",
           "arrowhead": 0,
           "arrowwidth": 1
          },
          "autotypenumbers": "strict",
          "coloraxis": {
           "colorbar": {
            "outlinewidth": 0,
            "ticks": ""
           }
          },
          "colorscale": {
           "diverging": [
            [
             0,
             "#8e0152"
            ],
            [
             0.1,
             "#c51b7d"
            ],
            [
             0.2,
             "#de77ae"
            ],
            [
             0.3,
             "#f1b6da"
            ],
            [
             0.4,
             "#fde0ef"
            ],
            [
             0.5,
             "#f7f7f7"
            ],
            [
             0.6,
             "#e6f5d0"
            ],
            [
             0.7,
             "#b8e186"
            ],
            [
             0.8,
             "#7fbc41"
            ],
            [
             0.9,
             "#4d9221"
            ],
            [
             1,
             "#276419"
            ]
           ],
           "sequential": [
            [
             0,
             "#0d0887"
            ],
            [
             0.1111111111111111,
             "#46039f"
            ],
            [
             0.2222222222222222,
             "#7201a8"
            ],
            [
             0.3333333333333333,
             "#9c179e"
            ],
            [
             0.4444444444444444,
             "#bd3786"
            ],
            [
             0.5555555555555556,
             "#d8576b"
            ],
            [
             0.6666666666666666,
             "#ed7953"
            ],
            [
             0.7777777777777778,
             "#fb9f3a"
            ],
            [
             0.8888888888888888,
             "#fdca26"
            ],
            [
             1,
             "#f0f921"
            ]
           ],
           "sequentialminus": [
            [
             0,
             "#0d0887"
            ],
            [
             0.1111111111111111,
             "#46039f"
            ],
            [
             0.2222222222222222,
             "#7201a8"
            ],
            [
             0.3333333333333333,
             "#9c179e"
            ],
            [
             0.4444444444444444,
             "#bd3786"
            ],
            [
             0.5555555555555556,
             "#d8576b"
            ],
            [
             0.6666666666666666,
             "#ed7953"
            ],
            [
             0.7777777777777778,
             "#fb9f3a"
            ],
            [
             0.8888888888888888,
             "#fdca26"
            ],
            [
             1,
             "#f0f921"
            ]
           ]
          },
          "colorway": [
           "#636efa",
           "#EF553B",
           "#00cc96",
           "#ab63fa",
           "#FFA15A",
           "#19d3f3",
           "#FF6692",
           "#B6E880",
           "#FF97FF",
           "#FECB52"
          ],
          "font": {
           "color": "#2a3f5f"
          },
          "geo": {
           "bgcolor": "white",
           "lakecolor": "white",
           "landcolor": "#E5ECF6",
           "showlakes": true,
           "showland": true,
           "subunitcolor": "white"
          },
          "hoverlabel": {
           "align": "left"
          },
          "hovermode": "closest",
          "mapbox": {
           "style": "light"
          },
          "paper_bgcolor": "white",
          "plot_bgcolor": "#E5ECF6",
          "polar": {
           "angularaxis": {
            "gridcolor": "white",
            "linecolor": "white",
            "ticks": ""
           },
           "bgcolor": "#E5ECF6",
           "radialaxis": {
            "gridcolor": "white",
            "linecolor": "white",
            "ticks": ""
           }
          },
          "scene": {
           "xaxis": {
            "backgroundcolor": "#E5ECF6",
            "gridcolor": "white",
            "gridwidth": 2,
            "linecolor": "white",
            "showbackground": true,
            "ticks": "",
            "zerolinecolor": "white"
           },
           "yaxis": {
            "backgroundcolor": "#E5ECF6",
            "gridcolor": "white",
            "gridwidth": 2,
            "linecolor": "white",
            "showbackground": true,
            "ticks": "",
            "zerolinecolor": "white"
           },
           "zaxis": {
            "backgroundcolor": "#E5ECF6",
            "gridcolor": "white",
            "gridwidth": 2,
            "linecolor": "white",
            "showbackground": true,
            "ticks": "",
            "zerolinecolor": "white"
           }
          },
          "shapedefaults": {
           "line": {
            "color": "#2a3f5f"
           }
          },
          "ternary": {
           "aaxis": {
            "gridcolor": "white",
            "linecolor": "white",
            "ticks": ""
           },
           "baxis": {
            "gridcolor": "white",
            "linecolor": "white",
            "ticks": ""
           },
           "bgcolor": "#E5ECF6",
           "caxis": {
            "gridcolor": "white",
            "linecolor": "white",
            "ticks": ""
           }
          },
          "title": {
           "x": 0.05
          },
          "xaxis": {
           "automargin": true,
           "gridcolor": "white",
           "linecolor": "white",
           "ticks": "",
           "title": {
            "standoff": 15
           },
           "zerolinecolor": "white",
           "zerolinewidth": 2
          },
          "yaxis": {
           "automargin": true,
           "gridcolor": "white",
           "linecolor": "white",
           "ticks": "",
           "title": {
            "standoff": 15
           },
           "zerolinecolor": "white",
           "zerolinewidth": 2
          }
         }
        }
       }
      }
     },
     "metadata": {},
     "output_type": "display_data"
    }
   ],
   "source": [
    "import plotly.graph_objects as go\n",
    "import plotly.express as px\n",
    "\n",
    "lines = [[(0,0,0)] + list(map(lambda x: planets[x].cords(), p)) + [(0,0,0)] for p in PATH]\n",
    "\n",
    "# Generate a color for each line\n",
    "line_colors = px.colors.qualitative.Plotly\n",
    "num_colors = len(line_colors)\n",
    "\n",
    "# Create 3D scatter plot\n",
    "fig = go.Figure()\n",
    "\n",
    "# Map priorities to colors using plotly's default color sequence\n",
    "unique_priorities = df['priority'].unique()\n",
    "color_map = {p: line_colors[i % num_colors] for i, p in enumerate(unique_priorities)}\n",
    "colors = df['priority'].map(color_map)\n",
    "\n",
    "# Scatter points with color by priority\n",
    "fig.add_trace(go.Scatter3d(\n",
    "    x=df['x'],\n",
    "    y=df['y'],\n",
    "    z=df['z'],\n",
    "    mode='markers+text',\n",
    "    marker=dict(\n",
    "        size=6,\n",
    "        color=colors,\n",
    "    ),\n",
    "    text=df['name'],\n",
    "    textposition='top center'\n",
    "))\n",
    "\n",
    "# Add colored lines\n",
    "for i, line in enumerate(lines):\n",
    "    x, y, z = zip(*line)\n",
    "    fig.add_trace(go.Scatter3d(\n",
    "        x=x, y=y, z=z,\n",
    "        mode='lines',\n",
    "        line=dict(color=line_colors[i % num_colors], width=4),\n",
    "        name=f'Loop {i+1}',\n",
    "        showlegend=True\n",
    "    ))\n",
    "\n",
    "# Layout\n",
    "fig.update_layout(\n",
    "    scene=dict(\n",
    "        xaxis_title='X',\n",
    "        yaxis_title='Y',\n",
    "        zaxis_title='Z',\n",
    "    ),\n",
    "    margin=dict(l=0, r=0, b=0, t=0),\n",
    "    height=700\n",
    ")\n",
    "\n",
    "fig.show()\n"
   ]
  }
 ],
 "metadata": {
  "kernelspec": {
   "display_name": ".venv",
   "language": "python",
   "name": "python3"
  },
  "language_info": {
   "codemirror_mode": {
    "name": "ipython",
    "version": 3
   },
   "file_extension": ".py",
   "mimetype": "text/x-python",
   "name": "python",
   "nbconvert_exporter": "python",
   "pygments_lexer": "ipython3",
   "version": "3.10.0"
  }
 },
 "nbformat": 4,
 "nbformat_minor": 2
}
